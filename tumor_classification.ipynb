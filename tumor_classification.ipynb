{
  "nbformat": 4,
  "nbformat_minor": 0,
  "metadata": {
    "colab": {
      "name": "tumor_classification.ipynb",
      "provenance": [],
      "collapsed_sections": [],
      "authorship_tag": "ABX9TyOpZCx3JZifKf6x74Dra/xz"
    },
    "kernelspec": {
      "name": "python3",
      "display_name": "Python 3"
    },
    "language_info": {
      "name": "python"
    },
    "accelerator": "GPU",
    "gpuClass": "standard",
    "widgets": {
      "application/vnd.jupyter.widget-state+json": {
        "f1d4b00708e647229b45e2b58dc5b122": {
          "model_module": "@jupyter-widgets/controls",
          "model_name": "HBoxModel",
          "model_module_version": "1.5.0",
          "state": {
            "_dom_classes": [],
            "_model_module": "@jupyter-widgets/controls",
            "_model_module_version": "1.5.0",
            "_model_name": "HBoxModel",
            "_view_count": null,
            "_view_module": "@jupyter-widgets/controls",
            "_view_module_version": "1.5.0",
            "_view_name": "HBoxView",
            "box_style": "",
            "children": [
              "IPY_MODEL_3cf2ef3096ae4ac8b542d4e0c475b8a3",
              "IPY_MODEL_47ffaf9668654a27a678e696e952f530",
              "IPY_MODEL_86d9daa516974f17a8c0ad06fa73f41b"
            ],
            "layout": "IPY_MODEL_4f754200584346ec9d60481b3a61dd9b"
          }
        },
        "3cf2ef3096ae4ac8b542d4e0c475b8a3": {
          "model_module": "@jupyter-widgets/controls",
          "model_name": "HTMLModel",
          "model_module_version": "1.5.0",
          "state": {
            "_dom_classes": [],
            "_model_module": "@jupyter-widgets/controls",
            "_model_module_version": "1.5.0",
            "_model_name": "HTMLModel",
            "_view_count": null,
            "_view_module": "@jupyter-widgets/controls",
            "_view_module_version": "1.5.0",
            "_view_name": "HTMLView",
            "description": "",
            "description_tooltip": null,
            "layout": "IPY_MODEL_8dd25e0eec2f4e379bbdb22bb32e6993",
            "placeholder": "​",
            "style": "IPY_MODEL_ea6acec560e54400ad5cff5940fd3008",
            "value": "100%"
          }
        },
        "47ffaf9668654a27a678e696e952f530": {
          "model_module": "@jupyter-widgets/controls",
          "model_name": "FloatProgressModel",
          "model_module_version": "1.5.0",
          "state": {
            "_dom_classes": [],
            "_model_module": "@jupyter-widgets/controls",
            "_model_module_version": "1.5.0",
            "_model_name": "FloatProgressModel",
            "_view_count": null,
            "_view_module": "@jupyter-widgets/controls",
            "_view_module_version": "1.5.0",
            "_view_name": "ProgressView",
            "bar_style": "success",
            "description": "",
            "description_tooltip": null,
            "layout": "IPY_MODEL_1c28069a49ec4f27b3fee3dff36792cb",
            "max": 102540417,
            "min": 0,
            "orientation": "horizontal",
            "style": "IPY_MODEL_38e1dc88c0d94379987b5b65d2ee2341",
            "value": 102540417
          }
        },
        "86d9daa516974f17a8c0ad06fa73f41b": {
          "model_module": "@jupyter-widgets/controls",
          "model_name": "HTMLModel",
          "model_module_version": "1.5.0",
          "state": {
            "_dom_classes": [],
            "_model_module": "@jupyter-widgets/controls",
            "_model_module_version": "1.5.0",
            "_model_name": "HTMLModel",
            "_view_count": null,
            "_view_module": "@jupyter-widgets/controls",
            "_view_module_version": "1.5.0",
            "_view_name": "HTMLView",
            "description": "",
            "description_tooltip": null,
            "layout": "IPY_MODEL_47cabe6e1b374312a3bb1aafbcfb53f1",
            "placeholder": "​",
            "style": "IPY_MODEL_d73c5f06b9c44ca59d99dbf9376df2ec",
            "value": " 97.8M/97.8M [00:01&lt;00:00, 79.5MB/s]"
          }
        },
        "4f754200584346ec9d60481b3a61dd9b": {
          "model_module": "@jupyter-widgets/base",
          "model_name": "LayoutModel",
          "model_module_version": "1.2.0",
          "state": {
            "_model_module": "@jupyter-widgets/base",
            "_model_module_version": "1.2.0",
            "_model_name": "LayoutModel",
            "_view_count": null,
            "_view_module": "@jupyter-widgets/base",
            "_view_module_version": "1.2.0",
            "_view_name": "LayoutView",
            "align_content": null,
            "align_items": null,
            "align_self": null,
            "border": null,
            "bottom": null,
            "display": null,
            "flex": null,
            "flex_flow": null,
            "grid_area": null,
            "grid_auto_columns": null,
            "grid_auto_flow": null,
            "grid_auto_rows": null,
            "grid_column": null,
            "grid_gap": null,
            "grid_row": null,
            "grid_template_areas": null,
            "grid_template_columns": null,
            "grid_template_rows": null,
            "height": null,
            "justify_content": null,
            "justify_items": null,
            "left": null,
            "margin": null,
            "max_height": null,
            "max_width": null,
            "min_height": null,
            "min_width": null,
            "object_fit": null,
            "object_position": null,
            "order": null,
            "overflow": null,
            "overflow_x": null,
            "overflow_y": null,
            "padding": null,
            "right": null,
            "top": null,
            "visibility": null,
            "width": null
          }
        },
        "8dd25e0eec2f4e379bbdb22bb32e6993": {
          "model_module": "@jupyter-widgets/base",
          "model_name": "LayoutModel",
          "model_module_version": "1.2.0",
          "state": {
            "_model_module": "@jupyter-widgets/base",
            "_model_module_version": "1.2.0",
            "_model_name": "LayoutModel",
            "_view_count": null,
            "_view_module": "@jupyter-widgets/base",
            "_view_module_version": "1.2.0",
            "_view_name": "LayoutView",
            "align_content": null,
            "align_items": null,
            "align_self": null,
            "border": null,
            "bottom": null,
            "display": null,
            "flex": null,
            "flex_flow": null,
            "grid_area": null,
            "grid_auto_columns": null,
            "grid_auto_flow": null,
            "grid_auto_rows": null,
            "grid_column": null,
            "grid_gap": null,
            "grid_row": null,
            "grid_template_areas": null,
            "grid_template_columns": null,
            "grid_template_rows": null,
            "height": null,
            "justify_content": null,
            "justify_items": null,
            "left": null,
            "margin": null,
            "max_height": null,
            "max_width": null,
            "min_height": null,
            "min_width": null,
            "object_fit": null,
            "object_position": null,
            "order": null,
            "overflow": null,
            "overflow_x": null,
            "overflow_y": null,
            "padding": null,
            "right": null,
            "top": null,
            "visibility": null,
            "width": null
          }
        },
        "ea6acec560e54400ad5cff5940fd3008": {
          "model_module": "@jupyter-widgets/controls",
          "model_name": "DescriptionStyleModel",
          "model_module_version": "1.5.0",
          "state": {
            "_model_module": "@jupyter-widgets/controls",
            "_model_module_version": "1.5.0",
            "_model_name": "DescriptionStyleModel",
            "_view_count": null,
            "_view_module": "@jupyter-widgets/base",
            "_view_module_version": "1.2.0",
            "_view_name": "StyleView",
            "description_width": ""
          }
        },
        "1c28069a49ec4f27b3fee3dff36792cb": {
          "model_module": "@jupyter-widgets/base",
          "model_name": "LayoutModel",
          "model_module_version": "1.2.0",
          "state": {
            "_model_module": "@jupyter-widgets/base",
            "_model_module_version": "1.2.0",
            "_model_name": "LayoutModel",
            "_view_count": null,
            "_view_module": "@jupyter-widgets/base",
            "_view_module_version": "1.2.0",
            "_view_name": "LayoutView",
            "align_content": null,
            "align_items": null,
            "align_self": null,
            "border": null,
            "bottom": null,
            "display": null,
            "flex": null,
            "flex_flow": null,
            "grid_area": null,
            "grid_auto_columns": null,
            "grid_auto_flow": null,
            "grid_auto_rows": null,
            "grid_column": null,
            "grid_gap": null,
            "grid_row": null,
            "grid_template_areas": null,
            "grid_template_columns": null,
            "grid_template_rows": null,
            "height": null,
            "justify_content": null,
            "justify_items": null,
            "left": null,
            "margin": null,
            "max_height": null,
            "max_width": null,
            "min_height": null,
            "min_width": null,
            "object_fit": null,
            "object_position": null,
            "order": null,
            "overflow": null,
            "overflow_x": null,
            "overflow_y": null,
            "padding": null,
            "right": null,
            "top": null,
            "visibility": null,
            "width": null
          }
        },
        "38e1dc88c0d94379987b5b65d2ee2341": {
          "model_module": "@jupyter-widgets/controls",
          "model_name": "ProgressStyleModel",
          "model_module_version": "1.5.0",
          "state": {
            "_model_module": "@jupyter-widgets/controls",
            "_model_module_version": "1.5.0",
            "_model_name": "ProgressStyleModel",
            "_view_count": null,
            "_view_module": "@jupyter-widgets/base",
            "_view_module_version": "1.2.0",
            "_view_name": "StyleView",
            "bar_color": null,
            "description_width": ""
          }
        },
        "47cabe6e1b374312a3bb1aafbcfb53f1": {
          "model_module": "@jupyter-widgets/base",
          "model_name": "LayoutModel",
          "model_module_version": "1.2.0",
          "state": {
            "_model_module": "@jupyter-widgets/base",
            "_model_module_version": "1.2.0",
            "_model_name": "LayoutModel",
            "_view_count": null,
            "_view_module": "@jupyter-widgets/base",
            "_view_module_version": "1.2.0",
            "_view_name": "LayoutView",
            "align_content": null,
            "align_items": null,
            "align_self": null,
            "border": null,
            "bottom": null,
            "display": null,
            "flex": null,
            "flex_flow": null,
            "grid_area": null,
            "grid_auto_columns": null,
            "grid_auto_flow": null,
            "grid_auto_rows": null,
            "grid_column": null,
            "grid_gap": null,
            "grid_row": null,
            "grid_template_areas": null,
            "grid_template_columns": null,
            "grid_template_rows": null,
            "height": null,
            "justify_content": null,
            "justify_items": null,
            "left": null,
            "margin": null,
            "max_height": null,
            "max_width": null,
            "min_height": null,
            "min_width": null,
            "object_fit": null,
            "object_position": null,
            "order": null,
            "overflow": null,
            "overflow_x": null,
            "overflow_y": null,
            "padding": null,
            "right": null,
            "top": null,
            "visibility": null,
            "width": null
          }
        },
        "d73c5f06b9c44ca59d99dbf9376df2ec": {
          "model_module": "@jupyter-widgets/controls",
          "model_name": "DescriptionStyleModel",
          "model_module_version": "1.5.0",
          "state": {
            "_model_module": "@jupyter-widgets/controls",
            "_model_module_version": "1.5.0",
            "_model_name": "DescriptionStyleModel",
            "_view_count": null,
            "_view_module": "@jupyter-widgets/base",
            "_view_module_version": "1.2.0",
            "_view_name": "StyleView",
            "description_width": ""
          }
        }
      }
    }
  },
  "cells": [
    {
      "cell_type": "code",
      "source": [
        "from google.colab import drive\n",
        "drive.mount('/content/drive')\n",
        "print(\"Google Drive connected.\")\n",
        "%cd ./drive/MyDrive/colab/tumor_classification/"
      ],
      "metadata": {
        "colab": {
          "base_uri": "https://localhost:8080/"
        },
        "id": "1-UwOy-Kn5yV",
        "outputId": "713b32e0-cba9-4f4f-9765-28864571b9c8"
      },
      "execution_count": 1,
      "outputs": [
        {
          "output_type": "stream",
          "name": "stdout",
          "text": [
            "Mounted at /content/drive\n",
            "Google Drive connected.\n",
            "/content/drive/MyDrive/colab/tumor_classification\n"
          ]
        }
      ]
    },
    {
      "cell_type": "code",
      "source": [
        "!pip install -q kaggle\n",
        "from google.colab import files\n",
        "files.upload()\n",
        "!mkdir ~/.kaggle\n",
        "!cp kaggle.json ~/.kaggle\n",
        "!chmod 600 ~/.kaggle/kaggle.json\n",
        "!kaggle datasets download -d sartajbhuvaji/brain-tumor-classification-mri\n",
        "!mkdir data\n",
        "!unzip brain-tumor-classification-mri.zip -d data"
      ],
      "metadata": {
        "id": "HOW_86Ppn_-H"
      },
      "execution_count": null,
      "outputs": []
    },
    {
      "cell_type": "code",
      "source": [
        "!ls data"
      ],
      "metadata": {
        "colab": {
          "base_uri": "https://localhost:8080/"
        },
        "id": "yeAk-9N3n_n-",
        "outputId": "71f96c29-a5ca-4f9a-9f55-aba45547c19c"
      },
      "execution_count": 2,
      "outputs": [
        {
          "output_type": "stream",
          "name": "stdout",
          "text": [
            "Testing  Training\n"
          ]
        }
      ]
    },
    {
      "cell_type": "code",
      "source": [
        "import os\n",
        "import cv2\n",
        "import numpy as np\n",
        "from tqdm import tqdm\n",
        "from sklearn.utils import shuffle\n",
        "import matplotlib.pyplot as plt\n",
        "from PIL import Image\n",
        "from torchvision import transforms\n",
        "\n",
        "REBUILD_DATA = False\n",
        "\n",
        "class BrainTumorClassification():\n",
        "  IMG_SIZE = 128\n",
        "  GLIOMA = \"/data/Training/glioma_tumor\"\n",
        "  MENINGIOMA = \"/data/Training/meningioma_tumor\"\n",
        "  PITUITARY = \"/data/Training/pituitary_tumor\"\n",
        "  NO = \"/data/Training/no_tumor\"\n",
        "  TESTING_GLIOMA = \"/data/Testing/glioma_tumor\"\n",
        "  TESTING_MENINGIOMA = \"/data/Testing/meningioma_tumor\"\n",
        "  TESTING_PITUITARY = \"/data/Testing/pituitary_tumor\"\n",
        "  TESTING_NO = \"/data/Testing/no_tumor\"\n",
        "  LABELS = {'glioma_tumor':0, 'meningioma_tumor': 1, 'pituitary_tumor': 2, 'no_tumor': 3}\n",
        "  training_data = []\n",
        "  training_images = []\n",
        "  training_labels = []\n",
        "  testing_data = []\n",
        "  testing_images = []\n",
        "  testing_labels = []\n",
        "\n",
        "  def make_training_data(self):\n",
        "    for label in self.LABELS:\n",
        "      for f in tqdm(os.listdir(\"data/Training/\"+label)):\n",
        "        if \"jpg\" in f:\n",
        "          try:\n",
        "            path = \"data/Training/\"+os.path.join(label, f)\n",
        "            # sample execution (requires torchvision)\n",
        "            img = Image.open(path)\n",
        "            preprocess = transforms.Compose([\n",
        "                transforms.Resize(256),\n",
        "                #transforms.CenterCrop(224),\n",
        "                transforms.ToTensor(),\n",
        "                transforms.Normalize(mean=[0.485, 0.456, 0.406], std=[0.229, 0.224, 0.225]),\n",
        "            ])\n",
        "            input_tensor = preprocess(img)\n",
        "            self.training_images.append(input_tensor)\n",
        "            self.training_labels.append(self.LABELS[label])\n",
        "          except Exception as e:\n",
        "            pass\n",
        "    training_images, training_labels = shuffle(self.training_images, self.training_labels, random_state=0)\n",
        "    torch.save(training_images, 'training_images.pt')\n",
        "    torch.save(training_labels, 'training_labels.pt')\n",
        "    #training_images = np.array(training_images)\n",
        "    #training_labels = np.array(training_labels)\n",
        "    #print(training_images.shape)\n",
        "    #print(training_labels.shape)\n",
        "    #np.save(\"training_images.npy\", training_images)\n",
        "    #np.save(\"training_labels.npy\", training_labels)\n",
        "\n",
        "  \n",
        "  def make_testing_data(self):\n",
        "    for label in self.LABELS:\n",
        "      for f in tqdm(os.listdir(\"data/Testing/\"+label)):\n",
        "        if \"jpg\" in f:\n",
        "          try:\n",
        "            path = \"data/Testing/\"+os.path.join(label, f)\n",
        "            #img = cv2.imread(path)\n",
        "            #img = cv2.resize(img, (self.IMG_SIZE, self.IMG_SIZE))\n",
        "            img = Image.open(path)\n",
        "            preprocess = transforms.Compose([\n",
        "                transforms.Resize(256),\n",
        "                #transforms.CenterCrop(224),\n",
        "                transforms.ToTensor(),\n",
        "                transforms.Normalize(mean=[0.485, 0.456, 0.406], std=[0.229, 0.224, 0.225]),\n",
        "            ])\n",
        "            input_tensor = preprocess(img)\n",
        "            self.testing_images.append(input_tensor)\n",
        "            self.testing_labels.append(self.LABELS[label])\n",
        "          except Exception as e:\n",
        "            pass\n",
        "    testing_images, testing_labels = shuffle(self.testing_images, self.testing_labels, random_state=0)\n",
        "    torch.save(testing_images, 'testing_images.pt')\n",
        "    torch.save(testing_labels, 'testing_labels.pt')\n",
        "    #testing_images = np.array(testing_images)\n",
        "    #testing_labels = np.array(testing_labels)\n",
        "    #print(testing_images.shape)\n",
        "    #print(testing_labels.shape)\n",
        "    #np.save(\"testing_images.npy\", testing_images)\n",
        "    #np.save(\"testing_labels.npy\", testing_labels)\n",
        "if REBUILD_DATA:\n",
        "  btclass = BrainTumorClassification()\n",
        "  btclass.make_training_data()\n",
        "  btclass.make_testing_data()\n",
        "  "
      ],
      "metadata": {
        "id": "774gPwj8eayV"
      },
      "execution_count": 3,
      "outputs": []
    },
    {
      "cell_type": "code",
      "source": [
        "#training_images = np.load(\"training_images.npy\", allow_pickle=True)\n",
        "#training_labels = np.load(\"training_labels.npy\", allow_pickle=True)\n",
        "\n",
        "#testing_images = np.load(\"testing_images.npy\", allow_pickle=True)\n",
        "#testing_labels = np.load(\"testing_labels.npy\", allow_pickle=True)\n",
        "\n",
        "training_images = torch.load(\"training_images.pt\")\n",
        "training_labels = torch.load(\"training_labels.pt\")\n",
        "\n",
        "testing_images = torch.load(\"testing_images.pt\")\n",
        "testing_labels = torch.load(\"testing_labels.pt\")\n",
        "\n",
        "print(\"Loaded.\")\n",
        "#print(\"Shape of training_images: \",(training_images).shape,\" | Shape of training_labels:\",(training_labels).shape,\"|| Shape of testing_images: \", (testing_images).shape ,\" | Shape of testing_labels:\",(testing_labels).shape)"
      ],
      "metadata": {
        "colab": {
          "base_uri": "https://localhost:8080/"
        },
        "id": "kwQ6UhqG8U5B",
        "outputId": "58ae727a-71ee-4bb1-8a0c-0c41794a6d86"
      },
      "execution_count": null,
      "outputs": [
        {
          "output_type": "stream",
          "name": "stdout",
          "text": [
            "Loaded.\n"
          ]
        }
      ]
    },
    {
      "cell_type": "code",
      "source": [
        "import torch\n",
        "import torchvision\n",
        "\n",
        "preprocess = transforms.Compose([\n",
        "                transforms.Resize((256,256)),\n",
        "                #transforms.CenterCrop(224),\n",
        "                transforms.ToTensor(),\n",
        "                #transforms.Normalize(mean=[0.485, 0.456, 0.406], std=[0.229, 0.224, 0.225]),\n",
        "            ])\n",
        "trainset=torchvision.datasets.ImageFolder(root='data/Training/', transform=preprocess)\n",
        "testset=torchvision.datasets.ImageFolder(root='data/Testing/', transform=preprocess)\n",
        "\n",
        "trainloader=torch.utils.data.DataLoader(trainset, batch_size=32, shuffle=True, num_workers=2)\n",
        "testloader=torch.utils.data.DataLoader(testset, batch_size=32, shuffle=False, num_workers=2)\n"
      ],
      "metadata": {
        "id": "vujUH4FChoWe"
      },
      "execution_count": 4,
      "outputs": []
    },
    {
      "cell_type": "code",
      "source": [
        "import matplotlib.pyplot as plt\n",
        "\n",
        "\n",
        "#X = torch.Tensor([i for i in training_images]).view(-1,128,128)\n",
        "#train_X = X/255.0\n",
        "#train_y = torch.Tensor([i for i in training_labels])\n",
        "\n",
        "train_X = training_images\n",
        "train_y = torch.Tensor([i for i in training_labels])\n",
        "\n",
        "#X2 = torch.Tensor([i for i in testing_images]).view(-1,128,128)\n",
        "#test_X = X2/255.0\n",
        "#test_y = torch.Tensor([i for i in testing_labels])\n",
        "\n",
        "test_X = testing_images\n",
        "test_y = torch.Tensor([i for i in testing_labels])\n",
        "\n",
        "\n",
        "print(len(train_X), len(test_X))\n",
        "\n",
        "print(train_X[0])\n",
        "#plt.imshow(X[0], cmap=\"gray\")\n",
        "#T.ToPILImage()(X[0])\n",
        "#plt.imshow(  X[0].permute(1, 2, 0)  )\n",
        "\n",
        "#print(training_labels[0])"
      ],
      "metadata": {
        "id": "3sCiI_G-_ybG",
        "colab": {
          "base_uri": "https://localhost:8080/"
        },
        "outputId": "8875b990-327b-4b19-cbee-4a977aa1e26c"
      },
      "execution_count": null,
      "outputs": [
        {
          "output_type": "stream",
          "name": "stdout",
          "text": [
            "2870 394\n",
            "tensor([[[-2.1179, -2.1179, -2.1179,  ..., -2.1179, -2.1179, -2.1179],\n",
            "         [-2.1008, -2.1008, -2.1008,  ..., -2.1008, -2.1008, -2.1008],\n",
            "         [-2.0665, -2.0665, -2.0665,  ..., -2.0665, -2.0665, -2.0665],\n",
            "         ...,\n",
            "         [-2.1008, -2.1008, -2.1008,  ..., -2.0665, -2.0665, -2.0665],\n",
            "         [-2.1179, -2.1179, -2.1179,  ..., -2.1008, -2.1008, -2.1008],\n",
            "         [-2.1008, -2.1008, -2.1008,  ..., -2.1179, -2.1179, -2.1179]],\n",
            "\n",
            "        [[-2.0357, -2.0357, -2.0357,  ..., -2.0357, -2.0357, -2.0357],\n",
            "         [-2.0182, -2.0182, -2.0182,  ..., -2.0182, -2.0182, -2.0182],\n",
            "         [-1.9832, -1.9832, -1.9832,  ..., -1.9832, -1.9832, -1.9832],\n",
            "         ...,\n",
            "         [-2.0182, -2.0182, -2.0182,  ..., -1.9832, -1.9832, -1.9832],\n",
            "         [-2.0357, -2.0357, -2.0357,  ..., -2.0182, -2.0182, -2.0182],\n",
            "         [-2.0182, -2.0182, -2.0182,  ..., -2.0357, -2.0357, -2.0357]],\n",
            "\n",
            "        [[-1.8044, -1.8044, -1.8044,  ..., -1.8044, -1.8044, -1.8044],\n",
            "         [-1.7870, -1.7870, -1.7870,  ..., -1.7870, -1.7870, -1.7870],\n",
            "         [-1.7522, -1.7522, -1.7522,  ..., -1.7522, -1.7522, -1.7522],\n",
            "         ...,\n",
            "         [-1.7870, -1.7870, -1.7870,  ..., -1.7522, -1.7522, -1.7522],\n",
            "         [-1.8044, -1.8044, -1.8044,  ..., -1.7870, -1.7870, -1.7870],\n",
            "         [-1.7870, -1.7870, -1.7870,  ..., -1.8044, -1.8044, -1.8044]]])\n"
          ]
        }
      ]
    },
    {
      "cell_type": "code",
      "source": [
        "plt.imshow(train_X[0].permute(1, 2, 0))"
      ],
      "metadata": {
        "colab": {
          "base_uri": "https://localhost:8080/",
          "height": 305
        },
        "id": "kOzzkDGt1K06",
        "outputId": "9828c76d-64c6-4bbd-8901-ba2a6913189d"
      },
      "execution_count": null,
      "outputs": [
        {
          "output_type": "stream",
          "name": "stderr",
          "text": [
            "WARNING:matplotlib.image:Clipping input data to the valid range for imshow with RGB data ([0..1] for floats or [0..255] for integers).\n"
          ]
        },
        {
          "output_type": "execute_result",
          "data": {
            "text/plain": [
              "<matplotlib.image.AxesImage at 0x7f9600dfe090>"
            ]
          },
          "metadata": {},
          "execution_count": 18
        },
        {
          "output_type": "display_data",
          "data": {
            "text/plain": [
              "<Figure size 432x288 with 1 Axes>"
            ],
            "image/png": "[encoded data removed]"
          },
          "metadata": {
            "needs_background": "light"
          }
        }
      ]
    },
    {
      "cell_type": "code",
      "source": [
        "import torch.nn as nn\n",
        "import torch.nn.functional as F\n",
        "if torch.cuda.is_available():\n",
        "    device = torch.device(\"cuda:0\")\n",
        "    print(\"Running on the GPU\")\n",
        "else:\n",
        "    device = torch.device(\"cpu\")\n",
        "    print(\"Running on the CPU\")"
      ],
      "metadata": {
        "colab": {
          "base_uri": "https://localhost:8080/"
        },
        "id": "gOW-Q09VAu62",
        "outputId": "234d5e1f-e1f3-4146-9b4d-3b0a7b06dc62"
      },
      "execution_count": 5,
      "outputs": [
        {
          "output_type": "stream",
          "name": "stdout",
          "text": [
            "Running on the CPU\n"
          ]
        }
      ]
    },
    {
      "cell_type": "code",
      "source": [
        "import torch.optim as optim\n",
        "from torchvision import datasets, transforms\n",
        "from torchvision.models import resnet50, ResNet50_Weights\n",
        "from torch.optim.lr_scheduler import StepLR\n",
        "from torch.nn import CrossEntropyLoss\n",
        "\n",
        "NUM_CLASSES = 4\n",
        "\n",
        "weights = ResNet50_Weights.DEFAULT\n",
        "model = resnet50(weights=weights)\n",
        "model.fc = nn.Linear(2048, NUM_CLASSES)\n",
        "model.to(device)\n",
        "criterion = nn.CrossEntropyLoss()\n",
        "optimizer = optim.SGD(model.parameters(), lr=0.001, momentum=0.9)\n",
        "#print(model)"
      ],
      "metadata": {
        "id": "6jc9vsSJ7DKJ",
        "colab": {
          "base_uri": "https://localhost:8080/",
          "height": 67,
          "referenced_widgets": [
            "f1d4b00708e647229b45e2b58dc5b122",
            "3cf2ef3096ae4ac8b542d4e0c475b8a3",
            "47ffaf9668654a27a678e696e952f530",
            "86d9daa516974f17a8c0ad06fa73f41b",
            "4f754200584346ec9d60481b3a61dd9b",
            "8dd25e0eec2f4e379bbdb22bb32e6993",
            "ea6acec560e54400ad5cff5940fd3008",
            "1c28069a49ec4f27b3fee3dff36792cb",
            "38e1dc88c0d94379987b5b65d2ee2341",
            "47cabe6e1b374312a3bb1aafbcfb53f1",
            "d73c5f06b9c44ca59d99dbf9376df2ec"
          ]
        },
        "outputId": "3109d5b0-4e91-4325-9520-96bee3ec3e4b"
      },
      "execution_count": 6,
      "outputs": [
        {
          "output_type": "stream",
          "name": "stderr",
          "text": [
            "Downloading: \"https://download.pytorch.org/models/resnet50-11ad3fa6.pth\" to /root/.cache/torch/hub/checkpoints/resnet50-11ad3fa6.pth\n"
          ]
        },
        {
          "output_type": "display_data",
          "data": {
            "text/plain": [
              "  0%|          | 0.00/97.8M [00:00<?, ?B/s]"
            ],
            "application/vnd.jupyter.widget-view+json": {
              "version_major": 2,
              "version_minor": 0,
              "model_id": "f1d4b00708e647229b45e2b58dc5b122"
            }
          },
          "metadata": {}
        }
      ]
    },
    {
      "cell_type": "code",
      "source": [
        "EPOCHS = 10\n",
        "\n",
        "def train(model):\n",
        "\n",
        "  for epoch in range(EPOCHS):\n",
        "\n",
        "    running_loss = 0.0\n",
        "    for i, data in enumerate(trainloader, 0):\n",
        "        inputs, labels = data\n",
        "        inputs, labels = inputs.to(device), labels.to(device)\n",
        "        optimizer.zero_grad()\n",
        "        outputs = model(inputs)\n",
        "        loss = criterion(outputs, labels)\n",
        "        loss.backward()\n",
        "        optimizer.step()\n",
        "\n",
        "        running_loss += loss.item()\n",
        "        if i % 10 == 9:\n",
        "            print(f'[{epoch + 1}, {i + 1:5d}] loss: {running_loss / 10:.3f}')\n",
        "            running_loss = 0.0\n",
        "  print('Finished Training')\n",
        "train(model)"
      ],
      "metadata": {
        "colab": {
          "base_uri": "https://localhost:8080/",
          "height": 461
        },
        "id": "lLL-Uzp0CX1f",
        "outputId": "a475a3c3-16fd-498a-9108-36023ddfb054"
      },
      "execution_count": 7,
      "outputs": [
        {
          "output_type": "stream",
          "name": "stdout",
          "text": [
            "[1,    10] loss: 1.393\n",
            "[1,    20] loss: 1.344\n",
            "[1,    30] loss: 1.279\n",
            "[1,    40] loss: 1.208\n",
            "[1,    50] loss: 1.156\n",
            "[1,    60] loss: 1.084\n"
          ]
        },
        {
          "output_type": "error",
          "ename": "KeyboardInterrupt",
          "evalue": "ignored",
          "traceback": [
            "\u001b[0;31m---------------------------------------------------------------------------\u001b[0m",
            "\u001b[0;31mKeyboardInterrupt\u001b[0m                         Traceback (most recent call last)",
            "\u001b[0;32m<ipython-input-7-1ee73e68ac69>\u001b[0m in \u001b[0;36m<module>\u001b[0;34m()\u001b[0m\n\u001b[1;32m     20\u001b[0m             \u001b[0mrunning_loss\u001b[0m \u001b[0;34m=\u001b[0m \u001b[0;36m0.0\u001b[0m\u001b[0;34m\u001b[0m\u001b[0;34m\u001b[0m\u001b[0m\n\u001b[1;32m     21\u001b[0m   \u001b[0mprint\u001b[0m\u001b[0;34m(\u001b[0m\u001b[0;34m'Finished Training'\u001b[0m\u001b[0;34m)\u001b[0m\u001b[0;34m\u001b[0m\u001b[0;34m\u001b[0m\u001b[0m\n\u001b[0;32m---> 22\u001b[0;31m \u001b[0mtrain\u001b[0m\u001b[0;34m(\u001b[0m\u001b[0mmodel\u001b[0m\u001b[0;34m)\u001b[0m\u001b[0;34m\u001b[0m\u001b[0;34m\u001b[0m\u001b[0m\n\u001b[0m",
            "\u001b[0;32m<ipython-input-7-1ee73e68ac69>\u001b[0m in \u001b[0;36mtrain\u001b[0;34m(model)\u001b[0m\n\u001b[1;32m     12\u001b[0m         \u001b[0moutputs\u001b[0m \u001b[0;34m=\u001b[0m \u001b[0mmodel\u001b[0m\u001b[0;34m(\u001b[0m\u001b[0minputs\u001b[0m\u001b[0;34m)\u001b[0m\u001b[0;34m\u001b[0m\u001b[0;34m\u001b[0m\u001b[0m\n\u001b[1;32m     13\u001b[0m         \u001b[0mloss\u001b[0m \u001b[0;34m=\u001b[0m \u001b[0mcriterion\u001b[0m\u001b[0;34m(\u001b[0m\u001b[0moutputs\u001b[0m\u001b[0;34m,\u001b[0m \u001b[0mlabels\u001b[0m\u001b[0;34m)\u001b[0m\u001b[0;34m\u001b[0m\u001b[0;34m\u001b[0m\u001b[0m\n\u001b[0;32m---> 14\u001b[0;31m         \u001b[0mloss\u001b[0m\u001b[0;34m.\u001b[0m\u001b[0mbackward\u001b[0m\u001b[0;34m(\u001b[0m\u001b[0;34m)\u001b[0m\u001b[0;34m\u001b[0m\u001b[0;34m\u001b[0m\u001b[0m\n\u001b[0m\u001b[1;32m     15\u001b[0m         \u001b[0moptimizer\u001b[0m\u001b[0;34m.\u001b[0m\u001b[0mstep\u001b[0m\u001b[0;34m(\u001b[0m\u001b[0;34m)\u001b[0m\u001b[0;34m\u001b[0m\u001b[0;34m\u001b[0m\u001b[0m\n\u001b[1;32m     16\u001b[0m \u001b[0;34m\u001b[0m\u001b[0m\n",
            "\u001b[0;32m/usr/local/lib/python3.7/dist-packages/torch/_tensor.py\u001b[0m in \u001b[0;36mbackward\u001b[0;34m(self, gradient, retain_graph, create_graph, inputs)\u001b[0m\n\u001b[1;32m    394\u001b[0m                 \u001b[0mcreate_graph\u001b[0m\u001b[0;34m=\u001b[0m\u001b[0mcreate_graph\u001b[0m\u001b[0;34m,\u001b[0m\u001b[0;34m\u001b[0m\u001b[0;34m\u001b[0m\u001b[0m\n\u001b[1;32m    395\u001b[0m                 inputs=inputs)\n\u001b[0;32m--> 396\u001b[0;31m         \u001b[0mtorch\u001b[0m\u001b[0;34m.\u001b[0m\u001b[0mautograd\u001b[0m\u001b[0;34m.\u001b[0m\u001b[0mbackward\u001b[0m\u001b[0;34m(\u001b[0m\u001b[0mself\u001b[0m\u001b[0;34m,\u001b[0m \u001b[0mgradient\u001b[0m\u001b[0;34m,\u001b[0m \u001b[0mretain_graph\u001b[0m\u001b[0;34m,\u001b[0m \u001b[0mcreate_graph\u001b[0m\u001b[0;34m,\u001b[0m \u001b[0minputs\u001b[0m\u001b[0;34m=\u001b[0m\u001b[0minputs\u001b[0m\u001b[0;34m)\u001b[0m\u001b[0;34m\u001b[0m\u001b[0;34m\u001b[0m\u001b[0m\n\u001b[0m\u001b[1;32m    397\u001b[0m \u001b[0;34m\u001b[0m\u001b[0m\n\u001b[1;32m    398\u001b[0m     \u001b[0;32mdef\u001b[0m \u001b[0mregister_hook\u001b[0m\u001b[0;34m(\u001b[0m\u001b[0mself\u001b[0m\u001b[0;34m,\u001b[0m \u001b[0mhook\u001b[0m\u001b[0;34m)\u001b[0m\u001b[0;34m:\u001b[0m\u001b[0;34m\u001b[0m\u001b[0;34m\u001b[0m\u001b[0m\n",
            "\u001b[0;32m/usr/local/lib/python3.7/dist-packages/torch/autograd/__init__.py\u001b[0m in \u001b[0;36mbackward\u001b[0;34m(tensors, grad_tensors, retain_graph, create_graph, grad_variables, inputs)\u001b[0m\n\u001b[1;32m    173\u001b[0m     Variable._execution_engine.run_backward(  # Calls into the C++ engine to run the backward pass\n\u001b[1;32m    174\u001b[0m         \u001b[0mtensors\u001b[0m\u001b[0;34m,\u001b[0m \u001b[0mgrad_tensors_\u001b[0m\u001b[0;34m,\u001b[0m \u001b[0mretain_graph\u001b[0m\u001b[0;34m,\u001b[0m \u001b[0mcreate_graph\u001b[0m\u001b[0;34m,\u001b[0m \u001b[0minputs\u001b[0m\u001b[0;34m,\u001b[0m\u001b[0;34m\u001b[0m\u001b[0;34m\u001b[0m\u001b[0m\n\u001b[0;32m--> 175\u001b[0;31m         allow_unreachable=True, accumulate_grad=True)  # Calls into the C++ engine to run the backward pass\n\u001b[0m\u001b[1;32m    176\u001b[0m \u001b[0;34m\u001b[0m\u001b[0m\n\u001b[1;32m    177\u001b[0m def grad(\n",
            "\u001b[0;31mKeyboardInterrupt\u001b[0m: "
          ]
        }
      ]
    },
    {
      "cell_type": "code",
      "source": [
        "def test(net):\n",
        "  correct = 0\n",
        "  total = 0\n",
        "  # since we're not training, we don't need to calculate the gradients for our outputs\n",
        "  with torch.no_grad():\n",
        "    for data in testloader:\n",
        "      images, labels = data\n",
        "      images, labels = images.to(device), labels.to(device)\n",
        "      # calculate outputs by running images through the network\n",
        "      outputs = net(images)\n",
        "      # the class with the highest energy is what we choose as prediction\n",
        "      _, predicted = torch.max(outputs, 1)\n",
        "      #print(f'Predicted:{predicted} Label:{labels}')\n",
        "      total += labels.size(0)\n",
        "      correct += (predicted == labels).sum().item()\n",
        "\n",
        "    print(f'Accuracy:{correct/total}')\n",
        "\n",
        "test(model)"
      ],
      "metadata": {
        "id": "gvQGtcEcCqAi",
        "colab": {
          "base_uri": "https://localhost:8080/"
        },
        "outputId": "4851ba60-9b79-4fe0-c3c4-a75d1139f257"
      },
      "execution_count": null,
      "outputs": [
        {
          "output_type": "stream",
          "name": "stdout",
          "text": [
            "Accuracy:0.3629441624365482\n"
          ]
        }
      ]
    },
    {
      "cell_type": "code",
      "source": [
        ""
      ],
      "metadata": {
        "id": "k0zRgeYymnH1"
      },
      "execution_count": null,
      "outputs": []
    }
  ]
}