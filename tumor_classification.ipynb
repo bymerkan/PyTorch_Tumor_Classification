{
  "cells": [
    {
      "cell_type": "code",
      "source": [
        "# Install Libraries\n",
        "!pip install -q kaggle\n",
        "!pip install torchmetrics\n",
        "\n",
        "# Import Libraries\n",
        "from google.colab import drive, files\n",
        "import torch\n",
        "import torch.nn as nn\n",
        "import torch.nn.functional as F\n",
        "import torchvision\n",
        "from torch.utils.data import Subset\n",
        "import torch.optim as optim\n",
        "from torch.optim import lr_scheduler\n",
        "from torchvision import datasets, models, transforms\n",
        "from torch.utils.data.sampler import SubsetRandomSampler\n",
        "import numpy as np\n",
        "from torchmetrics import ConfusionMatrix, ROC, AUROC\n",
        "from torchmetrics.functional import auc\n",
        "from sklearn.metrics import classification_report, roc_curve, auc\n",
        "import seaborn as sns\n",
        "import time\n",
        "import os\n",
        "import copy\n",
        "import matplotlib.pyplot as plt\n"
      ],
      "metadata": {
        "colab": {
          "base_uri": "https://localhost:8080/"
        },
        "id": "jbCu2X2noI7A",
        "outputId": "595380e5-7f14-4394-b676-85a28ad59e45"
      },
      "execution_count": null,
      "outputs": [
        {
          "output_type": "stream",
          "name": "stdout",
          "text": [
            "Looking in indexes: https://pypi.org/simple, https://us-python.pkg.dev/colab-wheels/public/simple/\n",
            "Collecting torchmetrics\n",
            "  Downloading torchmetrics-0.9.3-py3-none-any.whl (419 kB)\n",
            "\u001b[K     |████████████████████████████████| 419 kB 4.1 MB/s \n",
            "\u001b[?25hRequirement already satisfied: typing-extensions in /usr/local/lib/python3.7/dist-packages (from torchmetrics) (4.1.1)\n",
            "Requirement already satisfied: packaging in /usr/local/lib/python3.7/dist-packages (from torchmetrics) (21.3)\n",
            "Requirement already satisfied: numpy>=1.17.2 in /usr/local/lib/python3.7/dist-packages (from torchmetrics) (1.21.6)\n",
            "Requirement already satisfied: torch>=1.3.1 in /usr/local/lib/python3.7/dist-packages (from torchmetrics) (1.12.1+cu113)\n",
            "Requirement already satisfied: pyparsing!=3.0.5,>=2.0.2 in /usr/local/lib/python3.7/dist-packages (from packaging->torchmetrics) (3.0.9)\n",
            "Installing collected packages: torchmetrics\n",
            "Successfully installed torchmetrics-0.9.3\n"
          ]
        }
      ]
    },
    {
      "cell_type": "code",
      "execution_count": null,
      "metadata": {
        "colab": {
          "base_uri": "https://localhost:8080/"
        },
        "id": "1-UwOy-Kn5yV",
        "outputId": "3521b636-c2de-4f0d-a63f-c3c0ebddc3c4"
      },
      "outputs": [
        {
          "output_type": "stream",
          "name": "stdout",
          "text": [
            "Mounted at /content/drive\n",
            "[INFO]: Google Drive connected.\n",
            "/content/drive/MyDrive/colab/tumor_classification\n"
          ]
        }
      ],
      "source": [
        "# Connect to Google Drive\n",
        "drive.mount('/content/drive')\n",
        "print(\"[INFO]: Google Drive connected.\")\n",
        "%cd ./drive/MyDrive/colab/tumor_classification/"
      ]
    },
    {
      "cell_type": "code",
      "execution_count": null,
      "metadata": {
        "id": "HOW_86Ppn_-H"
      },
      "outputs": [],
      "source": [
        "# Download the dataset\n",
        "#files.upload()\n",
        "!mkdir ~/.kaggle\n",
        "!cp kaggle.json ~/.kaggle\n",
        "!chmod 600 ~/.kaggle/kaggle.json\n",
        "!kaggle datasets download -d masoudnickparvar/brain-tumor-mri-dataset #sartajbhuvaji/brain-tumor-classification-mri\n",
        "!mkdir data2\n",
        "!unzip brain-tumor-mri-dataset -d data2"
      ]
    },
    {
      "cell_type": "code",
      "execution_count": null,
      "metadata": {
        "colab": {
          "base_uri": "https://localhost:8080/"
        },
        "id": "yeAk-9N3n_n-",
        "outputId": "87bb2288-236c-4eb7-c406-bc65ce88cbc4"
      },
      "outputs": [
        {
          "output_type": "stream",
          "name": "stdout",
          "text": [
            "Testing  Training\n"
          ]
        }
      ],
      "source": [
        "# Check for dataset\n",
        "!ls data2"
      ]
    },
    {
      "cell_type": "code",
      "source": [
        "# Combine Testing and Training Data\n",
        "!rsync -a data2/Testing/ data2/Training/"
      ],
      "metadata": {
        "id": "V17jbCAyEHtH"
      },
      "execution_count": null,
      "outputs": []
    },
    {
      "cell_type": "code",
      "execution_count": null,
      "metadata": {
        "colab": {
          "base_uri": "https://localhost:8080/"
        },
        "id": "gOW-Q09VAu62",
        "outputId": "2b75cdd1-1968-40bc-ecf3-f8e636ca3cf7"
      },
      "outputs": [
        {
          "output_type": "stream",
          "name": "stdout",
          "text": [
            "[INFO]: Running on the GPU\n",
            "[GPU INFO]: _CudaDeviceProperties(name='Tesla T4', major=7, minor=5, total_memory=15109MB, multi_processor_count=40)\n"
          ]
        }
      ],
      "source": [
        "# Look for available GPU\n",
        "if torch.cuda.is_available():\n",
        "    device = torch.device(\"cuda:0\")\n",
        "    print(\"[INFO]: Running on the GPU\")\n",
        "    print(f\"[GPU INFO]: %s\" % torch.cuda.get_device_properties(device))\n",
        "else:\n",
        "    device = torch.device(\"cpu\")\n",
        "    print(\"[INFO]: Running on the CPU\")"
      ]
    },
    {
      "cell_type": "code",
      "execution_count": null,
      "metadata": {
        "id": "vujUH4FChoWe",
        "colab": {
          "base_uri": "https://localhost:8080/"
        },
        "outputId": "c348f5ba-b9ad-440e-958f-7dcf3ec6106d"
      },
      "outputs": [
        {
          "output_type": "stream",
          "name": "stdout",
          "text": [
            "[INFO]: Total Size: 3160  Train Size: 2844  Test Size: 316\n",
            "[INFO]: Number of classes: 4  Class names: ['glioma_tumor', 'meningioma_tumor', 'no_tumor', 'pituitary_tumor']\n"
          ]
        }
      ],
      "source": [
        "# Prepare the data\n",
        "\n",
        "random_seed= 42\n",
        "validation_split = .1\n",
        "shuffle_dataset = True\n",
        "image_size = 128\n",
        "batch_size = 32\n",
        "num_workers = 2\n",
        "\n",
        "preprocess = transforms.Compose([\n",
        "                transforms.Resize(image_size),\n",
        "                transforms.CenterCrop((image_size,image_size)),\n",
        "                transforms.ToTensor(),\n",
        "                #transforms.Grayscale(),\n",
        "                transforms.Normalize(mean=[0.5, 0.5, 0.5], std=[0.5, 0.5, 0.5]),\n",
        "                #transforms.Normalize(mean=[0.485, 0.456, 0.406], std=[0.229, 0.224, 0.225]),\n",
        "                transforms.RandomHorizontalFlip(),\n",
        "            ])\n",
        "trainset=torchvision.datasets.ImageFolder(root='data/Training/', transform=preprocess)\n",
        "#testset=torchvision.datasets.ImageFolder(root='data/Testing/', transform=preprocess)\n",
        "\n",
        "dataset_size = len(trainset.imgs)\n",
        "test_size = int(0.1 * dataset_size)\n",
        "train_size = int(dataset_size - test_size)\n",
        "print(f'[INFO]: Total Size: {dataset_size}  Train Size: {train_size}  Test Size: {test_size}')\n",
        "\n",
        "indices = list(range(dataset_size))\n",
        "split = int(np.floor(validation_split * dataset_size))\n",
        "if shuffle_dataset :\n",
        "    np.random.seed(random_seed)\n",
        "    np.random.shuffle(indices)\n",
        "train_indices, val_indices = indices[split:], indices[:split]\n",
        "\n",
        "train_sampler = SubsetRandomSampler(train_indices)\n",
        "valid_sampler = SubsetRandomSampler(val_indices)\n",
        "\n",
        "trainloader = torch.utils.data.DataLoader(trainset, batch_size=32, num_workers=2, sampler=train_sampler)\n",
        "validationloader = torch.utils.data.DataLoader(trainset, batch_size=train_size, num_workers=2, sampler=valid_sampler)\n",
        "\n",
        "\n",
        "class_names = trainset.classes\n",
        "num_classes = len(class_names)\n",
        "print(f'[INFO]: Number of classes: {num_classes}  Class names: {class_names}')"
      ]
    },
    {
      "cell_type": "code",
      "execution_count": null,
      "metadata": {
        "id": "lLL-Uzp0CX1f"
      },
      "outputs": [],
      "source": [
        "%matplotlib inline\n",
        "\n",
        "def save_model(model):\n",
        "    # Save the model\n",
        "    path = \"./tc_\"+ model.name +\".pt\"\n",
        "    torch.save(model, path)\n",
        "\n",
        "\n",
        "def test_model(model,loader):\n",
        "    # Test the model\n",
        "    correct = 0\n",
        "    total = 0\n",
        "    with torch.no_grad():\n",
        "      for data in loader:\n",
        "        images, labels = data\n",
        "        images = images.to(device)\n",
        "        labels = labels.to(device)\n",
        "\n",
        "        outputs = model(images)\n",
        "\n",
        "        pred_softmax = torch.log_softmax(outputs.data, dim = 1)\n",
        "        _, predicted = torch.max(pred_softmax, dim = 1)\n",
        "\n",
        "        total += labels.size(0)\n",
        "        correct += (predicted == labels).sum().item()\n",
        "\n",
        "        probabilities = predicted\n",
        "        predictions = predicted.cpu()\n",
        "        all_labels = labels.cpu()\n",
        "\n",
        "      c_report = classification_report(all_labels, predictions, target_names=class_names)\n",
        "      print(c_report)\n",
        "\n",
        "      confmat = ConfusionMatrix(num_classes=num_classes)\n",
        "      heatmap = confmat(predictions, all_labels)\n",
        "      sns.set_theme()\n",
        "      heatmap = heatmap.cpu().detach().numpy()\n",
        "      ax = sns.heatmap(heatmap, annot=True, fmt=\"d\", yticklabels=class_names, xticklabels=class_names, cmap=\"YlGnBu\")\n",
        "      fig = ax.get_figure()\n",
        "      fig.tight_layout()\n",
        "      heatmap_name = 'heatmap_' + model.name + '.png'\n",
        "      print(heatmap_name)\n",
        "      fig.savefig(heatmap_name,dpi=300) \n",
        "      \n",
        "    accuracy = round(correct/total, 5)\n",
        "    print(f'Accuracy: {accuracy}')\n",
        "\n",
        "    with open('tc_statistics.txt', 'w') as f:\n",
        "      f.write(c_report + '\\n\\nAccuracy:' + str(accuracy))\n",
        "\n",
        "    return accuracy\n",
        "\n",
        "valid_losses = []\n",
        "train_losses = []\n",
        "\n",
        "def train_model(model, criterion, optimizer, scheduler, num_epochs=25):\n",
        "    # Train the model\n",
        "    since = time.time()\n",
        "\n",
        "    best_accuracy = 0.0\n",
        "\n",
        "    for epoch in range(num_epochs):\n",
        "        print(f'Epoch {epoch+1}/{num_epochs}')\n",
        "        print('-' * 20)\n",
        "\n",
        "        ## Training\n",
        "        model.train()\n",
        "        train_loss = 0\n",
        "        for data, labels in trainloader:\n",
        "            data = data.to(device)\n",
        "            labels = labels.to(device)\n",
        "            optimizer.zero_grad()\n",
        "            output = model(data)\n",
        "            loss = criterion(output, labels)\n",
        "            loss.backward()\n",
        "            optimizer.step()\n",
        "            train_loss += loss.item()\n",
        "        ## Validation\n",
        "        model.eval()\n",
        "        valid_loss = 0\n",
        "        correct = 0\n",
        "        total = 0\n",
        "\n",
        "        with torch.no_grad():\n",
        "            for data in validationloader:\n",
        "              images, labels = data\n",
        "              images = images.to(device)\n",
        "              labels = labels.to(device)\n",
        "\n",
        "              outputs = model(images)\n",
        "\n",
        "              pred_softmax = torch.log_softmax(outputs.data, dim = 1)\n",
        "              _, predicted = torch.max(pred_softmax, dim = 1)\n",
        "\n",
        "              total += labels.size(0)\n",
        "              correct += (predicted == labels).sum().item()\n",
        "              loss = criterion(outputs, labels) \n",
        "              valid_loss += loss.item()\n",
        "              \n",
        "\n",
        "              accuracy = round(correct/total, 5)\n",
        "\n",
        "              if accuracy > best_accuracy:\n",
        "                save_model(model)\n",
        "                best_accuracy = accuracy\n",
        "                print(f'[INFO]: Model saved. Accuracy: {accuracy}')\n",
        "                \n",
        "        \n",
        "        train_loss = train_loss / len(trainloader)\n",
        "        valid_loss = valid_loss / len(validationloader)\n",
        "        train_losses.append(train_loss)\n",
        "        valid_losses.append(valid_loss)\n",
        "        print(f'[EPOCH]: Training loss: {train_loss}   Validation Loss: {valid_loss}')\n",
        "        print('-' * 90)\n",
        "        plot_loss(train_losses,valid_losses,phase='epoch')\n",
        "        \n",
        "    time_elapsed = time.time() - since\n",
        "    print(f'[TRAINING]: Training complete in {time_elapsed // 60:.0f}m {time_elapsed % 60:.0f}s')\n",
        "    print(f'[TRAINING]: Best val Accuracy: {best_accuracy:4f}')\n",
        "\n",
        "    plot_loss(train_losses,valid_losses,phase='final')\n",
        "\n",
        "def plot_loss(trainloss,validationloss,phase):\n",
        "  plt.figure(figsize=(10,5))\n",
        "  plt.title(\"Training and Validation Loss\")\n",
        "  plt.plot(validationloss,label=\"val\")\n",
        "  plt.plot(trainloss,label=\"train\")\n",
        "  plt.xlabel(\"Epochs\")\n",
        "  plt.ylabel(\"Loss\")\n",
        "  plt.legend()\n",
        "  if phase == 'final':\n",
        "    plt.savefig('loss_graph.png', dpi=300)\n",
        "    plt.show()\n",
        "  elif phase == 'epoch':\n",
        "    plt.savefig('loss_graph.png', dpi=300)\n",
        "    plt.close('all')\n",
        "  "
      ]
    },
    {
      "cell_type": "code",
      "execution_count": null,
      "metadata": {
        "id": "k0zRgeYymnH1",
        "colab": {
          "base_uri": "https://localhost:8080/"
        },
        "outputId": "fcd41341-d008-488e-8e53-afbc0d70c19b"
      },
      "outputs": [
        {
          "output_type": "stream",
          "name": "stdout",
          "text": [
            "[INFO]: Loading pre-trained weights...\n",
            "[INFO]: Fine-tuning all layers...\n"
          ]
        }
      ],
      "source": [
        "# Import pretrained models\n",
        "\n",
        "def build_model(model_name, weights, pretrained=True, fine_tune=True, num_classes=2):\n",
        "\n",
        "    # Models which have fc instead of classifier\n",
        "    fc = ['googlenet',\n",
        "          'regnet_y_400mf',\n",
        "          'regnet_y_800mf',\n",
        "          'regnet_y_1_6gf',\n",
        "          'regnet_y_3_2gf',\n",
        "          'regnet_y_8gf',\n",
        "          'regnet_y_16gf',\n",
        "          'regnet_y_32gf',\n",
        "          'regnet_y_128gf',\n",
        "          'regnet_x_400mf',\n",
        "          'regnet_x_800mf',\n",
        "          'regnet_x_1_6gf',\n",
        "          'regnet_x_3_2gf',\n",
        "          'regnet_x_8gf',\n",
        "          'regnet_x_16gf',\n",
        "          'regnet_x_32gf',\n",
        "          'resnet18',\n",
        "          'resnet34',\n",
        "          'resnet50',\n",
        "          'resnet101',\n",
        "          'resnet152',\n",
        "          'resnext50_32x4d',\n",
        "          'resnext101_32x8d',\n",
        "          'resnext101_64x4d',\n",
        "          'shufflenet_v2_x0_5',\n",
        "          'shufflenet_v2_x1_0',\n",
        "          'shufflenet_v2_x1_5',\n",
        "          'shufflenet_v2_x2_0',\n",
        "          'wide_resnet50_2',\n",
        "          'wide_resnet101_2']\n",
        "\n",
        "    model_string = 'global model; model = models.' + model_name + '(weights=\\'' + weights + '\\')'\n",
        "    exec(model_string)\n",
        "\n",
        "    model.name = model_name\n",
        "\n",
        "    if pretrained:\n",
        "        print('[INFO]: Loading pre-trained weights...')\n",
        "    else:\n",
        "        print('[INFO]: Not loading pre-trained weights.')\n",
        "    \n",
        "    if fine_tune:\n",
        "        print('[INFO]: Fine-tuning all layers...')\n",
        "        for params in model.parameters():\n",
        "            params.requires_grad = True\n",
        "    elif not fine_tune:\n",
        "        print('[INFO]: Freezing hidden layers...')\n",
        "        for params in model.parameters():\n",
        "            params.requires_grad = False\n",
        "    \n",
        "    if(model_name in fc):\n",
        "      num_ftrs = model.fc.in_features\n",
        "      model.fc = nn.Linear(in_features = num_ftrs, out_features = num_classes)\n",
        "    elif(model_name == 'inception_v3'):\n",
        "      aux_features = model.AuxLogits.fc.in_features\n",
        "      fc_features = model.fc.in_features\n",
        "      model.AuxLogits.fc = nn.Linear(aux_features, num_classes)\n",
        "      model.fc = nn.Linear(fc_features, num_classes)\n",
        "    elif(model_name == 'squeezenet1_0' or model_name == 'squeezenet1_1'):\n",
        "      in_chn = model.classifier[1].in_channels\n",
        "      model.classifier[1] = nn.Conv2d(in_channels = in_chn, out_channels = num_classes, kernel_size = (1,1), stride = (1,1))\n",
        "    elif(model_name == 'swin_t' or model_name == 'swin_s' or model_name == 'swin_b'):\n",
        "      num_ftrs = model.head.in_features\n",
        "      model.head = nn.Linear(in_features = num_ftrs, out_features = num_classes)\n",
        "    elif(model_name == 'vit_b_16' or model_name == 'vit_b_32' or model_name == 'vit_l_16' or model_name == 'vit_l_32' or model_name == 'vit_h_14'):\n",
        "      num_ftrs = model.heads.head.in_features\n",
        "      model.heads.head = nn.Linear(in_features = num_ftrs, out_features = num_classes)\n",
        "    else:\n",
        "      last_layer = model.classifier[-1]\n",
        "      num_ftrs = last_layer.in_features\n",
        "      model.classifier[-1] = nn.Linear(in_features = num_ftrs, out_features = num_classes)\n",
        "\n",
        "    return model\n",
        "\n",
        "\n",
        "\n",
        "model = build_model(model_name = 'resnet50', weights = 'DEFAULT', pretrained = True, fine_tune = True, num_classes = 4)\n",
        "\n",
        "model = model.to(device)\n",
        "\n",
        "criterion = nn.CrossEntropyLoss()\n",
        "#criterion = nn.BCEWithLogitsLoss()\n",
        "\n",
        "optimizer = optim.SGD(model.parameters(), lr=0.001, momentum=0.9)\n",
        "\n",
        "exp_lr_scheduler = lr_scheduler.StepLR(optimizer, step_size=5, gamma=0.1)"
      ]
    },
    {
      "cell_type": "code",
      "source": [
        "# Import fine-tuned pretrained model\n",
        "\n",
        "model = torch.load('tumor_classification_model.pt')\n",
        "\n",
        "model = model.to(device)\n",
        "\n",
        "criterion = nn.CrossEntropyLoss()\n",
        "\n",
        "optimizer_ft = optim.SGD(model.parameters(), lr=0.001, momentum=0.9)\n",
        "\n",
        "exp_lr_scheduler = lr_scheduler.StepLR(optimizer_ft, step_size=5, gamma=0.1)"
      ],
      "metadata": {
        "id": "xNVsp1F8EGGn"
      },
      "execution_count": null,
      "outputs": []
    },
    {
      "cell_type": "code",
      "source": [
        "# Custom CNN Model\n",
        "\n",
        "class Net(nn.Module):\n",
        "\n",
        "    def __init__(self):\n",
        "        super(Net, self).__init__()\n",
        "        self.conv1 = nn.Conv2d(3, 32, 5)\n",
        "        self.pool = nn.MaxPool2d(2,2)\n",
        "        self.conv2 = nn.Conv2d(32, 64, 5)\n",
        "        self.conv3 = nn.Conv2d(64, 128, 5)\n",
        "        self.conv4 = nn.Conv2d(128, 256, 5)\n",
        "        self.fc1 = nn.Linear(256*12*12, 256)\n",
        "        self.fc2 = nn.Linear(256, 128)\n",
        "        self.fc3 = nn.Linear(128, 4)\n",
        "\n",
        "    def forward(self, x):\n",
        "        \n",
        "        x = self.pool(F.relu(self.conv1(x)))\n",
        "        x = self.pool(F.relu(self.conv2(x)))\n",
        "        x = self.pool(F.relu(self.conv3(x)))\n",
        "        x = self.pool(F.relu(self.conv4(x)))\n",
        "        \n",
        "        x = torch.flatten(x, 1)\n",
        "        x = F.relu(self.fc1(x))\n",
        "        x = F.relu(self.fc2(x))\n",
        "        x = self.fc3(x)\n",
        "        return x\n",
        "\n",
        "\n",
        "model = Net().to(device)\n",
        "\n",
        "criterion = nn.CrossEntropyLoss()\n",
        "optimizer_ft = optim.SGD(model.parameters(), lr=0.001, momentum=0.9)\n",
        "exp_lr_scheduler = lr_scheduler.StepLR(optimizer_ft, step_size=7, gamma=0.1)"
      ],
      "metadata": {
        "id": "RQN8fE1MvAiW"
      },
      "execution_count": null,
      "outputs": []
    },
    {
      "cell_type": "code",
      "source": [
        "# Empty GPU Cache\n",
        "torch.cuda.empty_cache()\n",
        "\n",
        "# Empty Swap\n",
        "!swapoff -a && swapon -a\n",
        "\n",
        "#torch.cuda.memory_summary(device=None, abbreviated=False)\n",
        "#torch.cuda.memory_stats(device=device)"
      ],
      "metadata": {
        "id": "UAVXL3XjyXW5"
      },
      "execution_count": null,
      "outputs": []
    },
    {
      "cell_type": "code",
      "source": [
        "# Train the model\n",
        "train_model(model, criterion, optimizer, exp_lr_scheduler, num_epochs=40)"
      ],
      "metadata": {
        "id": "44DbofGJ_H5S",
        "colab": {
          "base_uri": "https://localhost:8080/",
          "height": 1000
        },
        "outputId": "031718b0-0e06-4719-9178-dfaee3ef6730"
      },
      "execution_count": null,
      "outputs": [
        {
          "output_type": "stream",
          "name": "stdout",
          "text": [
            "Epoch 1/40\n",
            "--------------------\n",
            "[INFO]: Model saved. Accuracy: 0.65823\n",
            "[EPOCH]: Training loss: 1.146905597006337   Validation Loss: 0.8633953332901001\n",
            "------------------------------------------------------------------------------------------\n",
            "Epoch 2/40\n",
            "--------------------\n",
            "[INFO]: Model saved. Accuracy: 0.81646\n",
            "[EPOCH]: Training loss: 0.6080959944912557   Validation Loss: 0.5282436013221741\n",
            "------------------------------------------------------------------------------------------\n",
            "Epoch 3/40\n",
            "--------------------\n",
            "[INFO]: Model saved. Accuracy: 0.88291\n",
            "[EPOCH]: Training loss: 0.3507322799623682   Validation Loss: 0.33691510558128357\n",
            "------------------------------------------------------------------------------------------\n",
            "Epoch 4/40\n",
            "--------------------\n",
            "[INFO]: Model saved. Accuracy: 0.89557\n",
            "[EPOCH]: Training loss: 0.2275897916615679   Validation Loss: 0.32370561361312866\n",
            "------------------------------------------------------------------------------------------\n",
            "Epoch 5/40\n",
            "--------------------\n",
            "[INFO]: Model saved. Accuracy: 0.91456\n",
            "[EPOCH]: Training loss: 0.16081062218781267   Validation Loss: 0.266632616519928\n",
            "------------------------------------------------------------------------------------------\n",
            "Epoch 6/40\n",
            "--------------------\n",
            "[INFO]: Model saved. Accuracy: 0.92722\n",
            "[EPOCH]: Training loss: 0.1184790562419744   Validation Loss: 0.23022495210170746\n",
            "------------------------------------------------------------------------------------------\n",
            "Epoch 7/40\n",
            "--------------------\n",
            "[EPOCH]: Training loss: 0.07810800338394186   Validation Loss: 0.2704782485961914\n",
            "------------------------------------------------------------------------------------------\n",
            "Epoch 8/40\n",
            "--------------------\n",
            "[EPOCH]: Training loss: 0.0710771608250111   Validation Loss: 0.19881270825862885\n",
            "------------------------------------------------------------------------------------------\n",
            "Epoch 9/40\n",
            "--------------------\n",
            "[EPOCH]: Training loss: 0.06201032732268063   Validation Loss: 0.26125556230545044\n",
            "------------------------------------------------------------------------------------------\n",
            "Epoch 10/40\n",
            "--------------------\n",
            "[INFO]: Model saved. Accuracy: 0.93987\n",
            "[EPOCH]: Training loss: 0.050001025560908435   Validation Loss: 0.18800349533557892\n",
            "------------------------------------------------------------------------------------------\n",
            "Epoch 11/40\n",
            "--------------------\n",
            "[EPOCH]: Training loss: 0.03793551938692003   Validation Loss: 0.22113949060440063\n",
            "------------------------------------------------------------------------------------------\n",
            "Epoch 12/40\n",
            "--------------------\n",
            "[EPOCH]: Training loss: 0.03302648383862433   Validation Loss: 0.1870686262845993\n",
            "------------------------------------------------------------------------------------------\n",
            "Epoch 13/40\n",
            "--------------------\n",
            "[EPOCH]: Training loss: 0.027702130965909427   Validation Loss: 0.20128564536571503\n",
            "------------------------------------------------------------------------------------------\n",
            "Epoch 14/40\n",
            "--------------------\n",
            "[INFO]: Model saved. Accuracy: 0.9462\n",
            "[EPOCH]: Training loss: 0.01607499452925214   Validation Loss: 0.17701146006584167\n",
            "------------------------------------------------------------------------------------------\n",
            "Epoch 15/40\n",
            "--------------------\n",
            "[EPOCH]: Training loss: 0.019646281515133014   Validation Loss: 0.18942970037460327\n",
            "------------------------------------------------------------------------------------------\n",
            "Epoch 16/40\n",
            "--------------------\n",
            "[INFO]: Model saved. Accuracy: 0.95253\n",
            "[EPOCH]: Training loss: 0.01711394699889476   Validation Loss: 0.1523049920797348\n",
            "------------------------------------------------------------------------------------------\n",
            "Epoch 17/40\n",
            "--------------------\n",
            "[EPOCH]: Training loss: 0.012850940328881438   Validation Loss: 0.16344188153743744\n",
            "------------------------------------------------------------------------------------------\n",
            "Epoch 18/40\n",
            "--------------------\n",
            "[EPOCH]: Training loss: 0.014064096760664009   Validation Loss: 0.15596938133239746\n",
            "------------------------------------------------------------------------------------------\n",
            "Epoch 19/40\n",
            "--------------------\n",
            "[EPOCH]: Training loss: 0.008837594547350839   Validation Loss: 0.158136785030365\n",
            "------------------------------------------------------------------------------------------\n",
            "Epoch 20/40\n",
            "--------------------\n",
            "[EPOCH]: Training loss: 0.010840937229046032   Validation Loss: 0.1923634558916092\n",
            "------------------------------------------------------------------------------------------\n",
            "Epoch 21/40\n",
            "--------------------\n",
            "[EPOCH]: Training loss: 0.01224791100235614   Validation Loss: 0.1563805341720581\n",
            "------------------------------------------------------------------------------------------\n",
            "Epoch 22/40\n",
            "--------------------\n",
            "[EPOCH]: Training loss: 0.011135810846201239   Validation Loss: 0.18165536224842072\n",
            "------------------------------------------------------------------------------------------\n",
            "Epoch 23/40\n",
            "--------------------\n",
            "[EPOCH]: Training loss: 0.009327589234682533   Validation Loss: 0.17103871703147888\n",
            "------------------------------------------------------------------------------------------\n",
            "Epoch 24/40\n",
            "--------------------\n",
            "[EPOCH]: Training loss: 0.012662956644807094   Validation Loss: 0.19965976476669312\n",
            "------------------------------------------------------------------------------------------\n",
            "Epoch 25/40\n",
            "--------------------\n",
            "[EPOCH]: Training loss: 0.00887789666813568   Validation Loss: 0.19449250400066376\n",
            "------------------------------------------------------------------------------------------\n",
            "Epoch 26/40\n",
            "--------------------\n",
            "[INFO]: Model saved. Accuracy: 0.9557\n",
            "[EPOCH]: Training loss: 0.012444431224139407   Validation Loss: 0.1592879593372345\n",
            "------------------------------------------------------------------------------------------\n",
            "Epoch 27/40\n",
            "--------------------\n",
            "[EPOCH]: Training loss: 0.008062111780183453   Validation Loss: 0.17959555983543396\n",
            "------------------------------------------------------------------------------------------\n",
            "Epoch 28/40\n",
            "--------------------\n",
            "[EPOCH]: Training loss: 0.005045883432410009   Validation Loss: 0.17073577642440796\n",
            "------------------------------------------------------------------------------------------\n",
            "Epoch 29/40\n",
            "--------------------\n",
            "[EPOCH]: Training loss: 0.0049987771140223135   Validation Loss: 0.19786706566810608\n",
            "------------------------------------------------------------------------------------------\n",
            "Epoch 30/40\n",
            "--------------------\n",
            "[EPOCH]: Training loss: 0.004841785708879215   Validation Loss: 0.17533260583877563\n",
            "------------------------------------------------------------------------------------------\n",
            "Epoch 31/40\n",
            "--------------------\n",
            "[EPOCH]: Training loss: 0.00904004325013702   Validation Loss: 0.17605248093605042\n",
            "------------------------------------------------------------------------------------------\n",
            "Epoch 32/40\n",
            "--------------------\n",
            "[EPOCH]: Training loss: 0.004392855635548555   Validation Loss: 0.19569255411624908\n",
            "------------------------------------------------------------------------------------------\n",
            "Epoch 33/40\n",
            "--------------------\n",
            "[EPOCH]: Training loss: 0.004276159427094723   Validation Loss: 0.19482718408107758\n",
            "------------------------------------------------------------------------------------------\n",
            "Epoch 34/40\n",
            "--------------------\n",
            "[EPOCH]: Training loss: 0.003824543560726903   Validation Loss: 0.19153909385204315\n",
            "------------------------------------------------------------------------------------------\n",
            "Epoch 35/40\n",
            "--------------------\n",
            "[EPOCH]: Training loss: 0.00398277697314278   Validation Loss: 0.19095450639724731\n",
            "------------------------------------------------------------------------------------------\n",
            "Epoch 36/40\n",
            "--------------------\n",
            "[EPOCH]: Training loss: 0.004573717019932731   Validation Loss: 0.23105227947235107\n",
            "------------------------------------------------------------------------------------------\n",
            "Epoch 37/40\n",
            "--------------------\n",
            "[EPOCH]: Training loss: 0.0032297413424376836   Validation Loss: 0.19000957906246185\n",
            "------------------------------------------------------------------------------------------\n",
            "Epoch 38/40\n",
            "--------------------\n",
            "[EPOCH]: Training loss: 0.003290679237773914   Validation Loss: 0.21329575777053833\n",
            "------------------------------------------------------------------------------------------\n",
            "Epoch 39/40\n",
            "--------------------\n",
            "[EPOCH]: Training loss: 0.003582943799700117   Validation Loss: 0.18936891853809357\n",
            "------------------------------------------------------------------------------------------\n",
            "Epoch 40/40\n",
            "--------------------\n",
            "[EPOCH]: Training loss: 0.004884493418215784   Validation Loss: 0.2233033925294876\n",
            "------------------------------------------------------------------------------------------\n",
            "[TRAINING]: Training complete in 18m 41s\n",
            "[TRAINING]: Best val Accuracy: 0.955700\n"
          ]
        },
        {
          "output_type": "display_data",
          "data": {
            "text/plain": [
              "<Figure size 720x360 with 1 Axes>"
            ],
            "image/png": "[encoded data removed]"
          },
          "metadata": {
            "needs_background": "light"
          }
        }
      ]
    },
    {
      "cell_type": "code",
      "source": [
        "# Save the model\n",
        "torch.save(model,'tumor_classification_model.pt')"
      ],
      "metadata": {
        "id": "z8QEhWWMPkLV"
      },
      "execution_count": null,
      "outputs": []
    },
    {
      "cell_type": "code",
      "source": [
        "# Load and Test the model\n",
        "PATH = 'tc_resnet50.pt'\n",
        "\n",
        "if torch.cuda.is_available():\n",
        "  model = torch.load(PATH)\n",
        "  model.to(device)\n",
        "else:\n",
        "  model = torch.load(PATH, map_location=device)\n",
        "\n",
        "model.eval()\n",
        "\n",
        "test = test_model(model,validationloader)"
      ],
      "metadata": {
        "colab": {
          "base_uri": "https://localhost:8080/",
          "height": 525
        },
        "id": "oZszVf10H-wb",
        "outputId": "cbdae9de-6664-4c94-bb7b-9c60bef0582e"
      },
      "execution_count": null,
      "outputs": [
        {
          "output_type": "stream",
          "name": "stdout",
          "text": [
            "                  precision    recall  f1-score   support\n",
            "\n",
            "    glioma_tumor       0.98      0.93      0.95       108\n",
            "meningioma_tumor       0.91      0.94      0.93        86\n",
            "        no_tumor       0.92      0.95      0.94        38\n",
            " pituitary_tumor       0.98      1.00      0.99        84\n",
            "\n",
            "        accuracy                           0.95       316\n",
            "       macro avg       0.95      0.95      0.95       316\n",
            "    weighted avg       0.95      0.95      0.95       316\n",
            "\n",
            "heatmap_resnet50.png\n",
            "Accuracy: 0.95253\n"
          ]
        },
        {
          "output_type": "display_data",
          "data": {
            "text/plain": [
              "<Figure size 432x288 with 2 Axes>"
            ],
            "image/png": "[encoded data removed]"
          },
          "metadata": {}
        }
      ]
    },
    {
      "cell_type": "code",
      "source": [
        ""
      ],
      "metadata": {
        "id": "dFeYU1H5pU4k"
      },
      "execution_count": null,
      "outputs": []
    }
  ],
  "metadata": {
    "accelerator": "GPU",
    "colab": {
      "collapsed_sections": [],
      "name": "tumor_classification.ipynb",
      "provenance": [],
      "authorship_tag": "ABX9TyOH9eQt1W1MBTGzasepelbj"
    },
    "gpuClass": "standard",
    "kernelspec": {
      "display_name": "Python 3",
      "name": "python3"
    },
    "language_info": {
      "name": "python"
    }
  },
  "nbformat": 4,
  "nbformat_minor": 0
}